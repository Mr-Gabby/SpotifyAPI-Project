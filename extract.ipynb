{
 "cells": [
  {
   "cell_type": "code",
   "execution_count": 1,
   "metadata": {},
   "outputs": [
    {
     "data": {
      "text/plain": [
       "True"
      ]
     },
     "execution_count": 1,
     "metadata": {},
     "output_type": "execute_result"
    }
   ],
   "source": [
    "import os\n",
    "import base64\n",
    "from dotenv import load_dotenv\n",
    "from requests import post\n",
    "import json\n",
    "load_dotenv()"
   ]
  },
  {
   "cell_type": "code",
   "execution_count": 2,
   "metadata": {},
   "outputs": [
    {
     "name": "stdout",
     "output_type": "stream",
     "text": [
      "8ed09b2a76e443b0bd22e79203485ed9 c08b968943454f19a875b4ae7c38aa5d\n"
     ]
    }
   ],
   "source": [
    "client_id = os.getenv(\"CLIENT_ID\")\n",
    "client_secret = os.getenv(\"CLIENT_SECRET\")\n",
    "print(client_id, client_secret)"
   ]
  },
  {
   "cell_type": "code",
   "execution_count": 3,
   "metadata": {},
   "outputs": [
    {
     "ename": "NameError",
     "evalue": "name 'requests' is not defined",
     "output_type": "error",
     "traceback": [
      "\u001b[1;31m---------------------------------------------------------------------------\u001b[0m",
      "\u001b[1;31mNameError\u001b[0m                                 Traceback (most recent call last)",
      "Cell \u001b[1;32mIn[3], line 50\u001b[0m\n\u001b[0;32m     46\u001b[0m     \u001b[38;5;28mprint\u001b[39m(\u001b[38;5;124m\"\u001b[39m\u001b[38;5;124mData saved to burna_boy_data.csv\u001b[39m\u001b[38;5;124m\"\u001b[39m)\n\u001b[0;32m     49\u001b[0m \u001b[38;5;66;03m# Main flow\u001b[39;00m\n\u001b[1;32m---> 50\u001b[0m token \u001b[38;5;241m=\u001b[39m get_token()\n\u001b[0;32m     52\u001b[0m \u001b[38;5;66;03m# Search for Burna Boy\u001b[39;00m\n\u001b[0;32m     53\u001b[0m artist_name \u001b[38;5;241m=\u001b[39m \u001b[38;5;124m\"\u001b[39m\u001b[38;5;124mBurna Boy\u001b[39m\u001b[38;5;124m\"\u001b[39m\n",
      "Cell \u001b[1;32mIn[3], line 13\u001b[0m, in \u001b[0;36mget_token\u001b[1;34m()\u001b[0m\n\u001b[0;32m      7\u001b[0m headers \u001b[38;5;241m=\u001b[39m {\n\u001b[0;32m      8\u001b[0m     \u001b[38;5;124m\"\u001b[39m\u001b[38;5;124mAuthorization\u001b[39m\u001b[38;5;124m\"\u001b[39m: \u001b[38;5;124m\"\u001b[39m\u001b[38;5;124mBasic \u001b[39m\u001b[38;5;124m\"\u001b[39m \u001b[38;5;241m+\u001b[39m auth_base64,\n\u001b[0;32m      9\u001b[0m     \u001b[38;5;124m\"\u001b[39m\u001b[38;5;124mContent-Type\u001b[39m\u001b[38;5;124m\"\u001b[39m: \u001b[38;5;124m\"\u001b[39m\u001b[38;5;124mapplication/x-www-form-urlencoded\u001b[39m\u001b[38;5;124m\"\u001b[39m\n\u001b[0;32m     10\u001b[0m }\n\u001b[0;32m     12\u001b[0m data \u001b[38;5;241m=\u001b[39m {\u001b[38;5;124m\"\u001b[39m\u001b[38;5;124mgrant_type\u001b[39m\u001b[38;5;124m\"\u001b[39m: \u001b[38;5;124m\"\u001b[39m\u001b[38;5;124mclient_credentials\u001b[39m\u001b[38;5;124m\"\u001b[39m}\n\u001b[1;32m---> 13\u001b[0m result \u001b[38;5;241m=\u001b[39m requests\u001b[38;5;241m.\u001b[39mpost(url, headers\u001b[38;5;241m=\u001b[39mheaders, data\u001b[38;5;241m=\u001b[39mdata)\n\u001b[0;32m     15\u001b[0m json_result \u001b[38;5;241m=\u001b[39m json\u001b[38;5;241m.\u001b[39mloads(result\u001b[38;5;241m.\u001b[39mcontent)\n\u001b[0;32m     16\u001b[0m token \u001b[38;5;241m=\u001b[39m json_result[\u001b[38;5;124m\"\u001b[39m\u001b[38;5;124maccess_token\u001b[39m\u001b[38;5;124m\"\u001b[39m]\n",
      "\u001b[1;31mNameError\u001b[0m: name 'requests' is not defined"
     ]
    }
   ],
   "source": [
    "def get_token():\n",
    "    auth_string = client_id + \":\" + client_secret\n",
    "    auth_bytes = auth_string.encode(\"utf-8\")\n",
    "    auth_base64 = str(base64.b64encode(auth_bytes), \"utf-8\")\n",
    "    \n",
    "    url = \"https://accounts.spotify.com/api/token\"\n",
    "    headers = {\n",
    "        \"Authorization\": \"Basic \" + auth_base64,\n",
    "        \"Content-Type\": \"application/x-www-form-urlencoded\"\n",
    "    }\n",
    "\n",
    "    data = {\"grant_type\": \"client_credentials\"}\n",
    "    result = requests.post(url, headers=headers, data=data)\n",
    "    \n",
    "    json_result = json.loads(result.content)\n",
    "    token = json_result[\"access_token\"]\n",
    "    return token\n",
    "\n",
    "# Function to create the authorization header\n",
    "def get_auth_header(token):\n",
    "    return {\"Authorization\": \"Bearer \" + token}\n",
    "\n",
    "# Function to search for an artist by name\n",
    "def search_for_artist(token, artist_name):\n",
    "    url = \"https://api.spotify.com/v1/search\"\n",
    "    headers = get_auth_header(token)\n",
    "    query = f\"q={artist_name}&type=artist&limit=1\"\n",
    "    \n",
    "    query_url = f\"{url}?{query}\"\n",
    "    result = requests.get(query_url, headers=headers)\n",
    "    \n",
    "    return json.loads(result.content)\n",
    "\n",
    "# Function to dump artist data into a CSV\n",
    "def dump_artist_to_csv(artist_data):\n",
    "    artist_info = {\n",
    "        'name': [artist_data['name']],\n",
    "        'popularity': [artist_data['popularity']],\n",
    "        'followers': [artist_data['followers']['total']],\n",
    "        'genres': [\", \".join(artist_data['genres'])],\n",
    "        'spotify_url': [artist_data['external_urls']['spotify']]\n",
    "    }\n",
    "\n",
    "    df = pd.DataFrame(artist_info)\n",
    "    df.to_csv('burna_boy_data.csv', index=False)\n",
    "    print(\"Data saved to burna_boy_data.csv\")\n",
    "\n",
    "\n",
    "# Main flow\n",
    "token = get_token()\n",
    "\n",
    "# Search for Burna Boy\n",
    "artist_name = \"Burna Boy\"\n",
    "result = search_for_artist(token, artist_name)\n",
    "\n",
    "# Extract the artist's data\n",
    "if result['artists']['items']:\n",
    "    burna_boy_data = result['artists']['items'][0]\n",
    "    dump_artist_to_csv(burna_boy_data)\n",
    "else:\n",
    "    print(\"Artist not found\")\n",
    "\n",
    "    "
   ]
  },
  {
   "cell_type": "code",
   "execution_count": 34,
   "metadata": {},
   "outputs": [
    {
     "name": "stdout",
     "output_type": "stream",
     "text": [
      "Albums data saved to burna_boy_albums.csv\n"
     ]
    }
   ],
   "source": [
    "def get_artist_albums(token, artist_id):\n",
    "    url = f\"https://api.spotify.com/v1/artists/{artist_id}/albums\"\n",
    "    headers = get_auth_header(token)\n",
    "    \n",
    "    params = {\n",
    "        \"include_groups\": \"album\",  # We are only interested in albums\n",
    "        \"limit\": 50  # Maximum limit per request\n",
    "    }\n",
    "    \n",
    "    result = requests.get(url, headers=headers, params=params)\n",
    "    return json.loads(result.content)\n",
    "\n",
    "# Function to dump album data into a CSV\n",
    "def dump_albums_to_csv(albums):\n",
    "    albums_data = []\n",
    "    \n",
    "    for album in albums['items']:\n",
    "        albums_data.append({\n",
    "            'album_name': album['name'],\n",
    "            'release_date': album['release_date'],\n",
    "            'total_tracks': album['total_tracks'],\n",
    "            'album_type': album['album_type'],\n",
    "            'spotify_url': album['external_urls']['spotify']\n",
    "        })\n",
    "    \n",
    "    df = pd.DataFrame(albums_data)\n",
    "    df.to_csv('burna_boy_albums.csv', index=False)\n",
    "    print(\"Albums data saved to burna_boy_albums.csv\")\n",
    "\n",
    "# Main flow\n",
    "token = get_token()\n",
    "\n",
    "# Search for Burna Boy\n",
    "artist_name = \"Burna Boy\"\n",
    "result = search_for_artist(token, artist_name)\n",
    "\n",
    "# Extract the artist's data\n",
    "if result['artists']['items']:\n",
    "    burna_boy_data = result['artists']['items'][0]\n",
    "    artist_id = burna_boy_data['id']  # Get Burna Boy's artist ID\n",
    "    \n",
    "    # Fetch the albums of Burna Boy\n",
    "    albums = get_artist_albums(token, artist_id)\n",
    "    \n",
    "    # Dump the albums to CSV\n",
    "    dump_albums_to_csv(albums)\n",
    "else:\n",
    "    print(\"Artist not found\")"
   ]
  },
  {
   "cell_type": "code",
   "execution_count": 38,
   "metadata": {},
   "outputs": [
    {
     "name": "stdout",
     "output_type": "stream",
     "text": [
      "Track stats saved to burna_boy_tracks_stats.csv\n"
     ]
    }
   ],
   "source": [
    "\n",
    "# Function to get detailed information about an album, including tracks\n",
    "def get_album_tracks(token, album_id):\n",
    "    url = f\"https://api.spotify.com/v1/albums/{album_id}/tracks\"\n",
    "    headers = get_auth_header(token)\n",
    "    \n",
    "    result = requests.get(url, headers=headers)\n",
    "    return json.loads(result.content)\n",
    "\n",
    "# Function to get detailed information about a track\n",
    "def get_track_details(token, track_id):\n",
    "    url = f\"https://api.spotify.com/v1/tracks/{track_id}\"\n",
    "    headers = get_auth_header(token)\n",
    "    \n",
    "    result = requests.get(url, headers=headers)\n",
    "    return json.loads(result.content)\n",
    "\n",
    "# Function to gather and save track statistics\n",
    "def get_track_stats_for_albums(albums, token):\n",
    "    track_data = []\n",
    "\n",
    "    for album in albums['items']:\n",
    "        # Get all tracks for the album\n",
    "        album_tracks = get_album_tracks(token, album['id'])\n",
    "        album_name = album['name']\n",
    "        release_date = album['release_date']\n",
    "        \n",
    "        for track in album_tracks['items']:\n",
    "            # Get detailed information about each track\n",
    "            track_details = get_track_details(token, track['id'])\n",
    "            \n",
    "            # Collect track data\n",
    "            track_data.append({\n",
    "                'album_name': album_name,\n",
    "                'track_name': track_details['name'],\n",
    "                'track_number': track_details['track_number'],\n",
    "                'popularity': track_details['popularity'],  # Popularity score as a proxy for total listens\n",
    "                'duration_min': track_details['duration_ms'] / 60000,  # Convert milliseconds to minutes\n",
    "                'explicit': track_details['explicit'],  # True if the track has explicit content\n",
    "                'release_date': release_date\n",
    "            })\n",
    "\n",
    "    # Convert the track data to a DataFrame\n",
    "    df = pd.DataFrame(track_data)\n",
    "\n",
    "    # Save to CSV for easy access\n",
    "    df.to_csv('burna_boy_tracks_stats.csv', index=False)\n",
    "    print(\"Track stats saved to burna_boy_tracks_stats.csv\")\n",
    "\n",
    "# Main flow\n",
    "token = get_token()\n",
    "\n",
    "# Search for Burna Boy\n",
    "artist_name = \"Burna Boy\"\n",
    "result = search_for_artist(token, artist_name)\n",
    "\n",
    "# Extract the artist's data\n",
    "if result['artists']['items']:\n",
    "    burna_boy_data = result['artists']['items'][0]\n",
    "    artist_id = burna_boy_data['id']  # Get Burna Boy's artist ID\n",
    "    \n",
    "    # Fetch the albums of Burna Boy\n",
    "    albums = get_artist_albums(token, artist_id)\n",
    "    \n",
    "    # Get track stats and save them to CSV\n",
    "    get_track_stats_for_albums(albums, token)\n",
    "else:\n",
    "    print(\"Artist not found\")"
   ]
  },
  {
   "cell_type": "code",
   "execution_count": null,
   "metadata": {},
   "outputs": [],
   "source": []
  }
 ],
 "metadata": {
  "kernelspec": {
   "display_name": "base",
   "language": "python",
   "name": "python3"
  },
  "language_info": {
   "codemirror_mode": {
    "name": "ipython",
    "version": 3
   },
   "file_extension": ".py",
   "mimetype": "text/x-python",
   "name": "python",
   "nbconvert_exporter": "python",
   "pygments_lexer": "ipython3",
   "version": "3.12.4"
  }
 },
 "nbformat": 4,
 "nbformat_minor": 2
}
